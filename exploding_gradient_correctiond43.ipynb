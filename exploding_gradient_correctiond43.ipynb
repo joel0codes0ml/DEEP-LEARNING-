{
  "nbformat": 4,
  "nbformat_minor": 0,
  "metadata": {
    "colab": {
      "provenance": [],
      "authorship_tag": "ABX9TyP4fFUpAiwbqdZ6k2R3eb5g",
      "include_colab_link": true
    },
    "kernelspec": {
      "name": "python3",
      "display_name": "Python 3"
    },
    "language_info": {
      "name": "python"
    }
  },
  "cells": [
    {
      "cell_type": "markdown",
      "metadata": {
        "id": "view-in-github",
        "colab_type": "text"
      },
      "source": [
        "<a href=\"https://colab.research.google.com/github/joel0codes0ml/DEEP-LEARNING-/blob/implementation-algorithms/exploding_gradient_correctiond43.ipynb\" target=\"_parent\"><img src=\"https://colab.research.google.com/assets/colab-badge.svg\" alt=\"Open In Colab\"/></a>"
      ]
    },
    {
      "cell_type": "code",
      "execution_count": null,
      "metadata": {
        "id": "--aTiusYsJTY"
      },
      "outputs": [],
      "source": [
        "model = Sequential()\n",
        "model.add(Dense(10, activation='tanh', kernel_initializer=random_normal(mean=0.0, stddev=0.5), input_dim=18))\n",
        "model.add)Dense(10, activation='tanh', kernel_initializer=random_normal(mean=0.0, stddev=0.5))\n",
        "model.add(Dense(10, activation='tanh', kernel_initializer=random_normal(mean=0.0, stddev=0.5)))\n",
        "model.add(Dense(10, activation='tanh', kernel_initializer=random_normal(mean=0.0, stddev=0.5))\n",
        "model.add(Dense(10, activation='tanh', kernel_initiliazer=random_normal(mean=0.0, stddev=0.5)))\n",
        "model.add(Dense(10, activation-'tanh', kernel_initializer=random-normal(mean=0.0, stddev=0.5)))\n",
        "model.add(Dense(10, activation='tanh', kernel_initializer=random_normal(mean=0.0, stddev=0.5)))\n",
        "model.add(Dense(10, activation='tanh', kernel_initializer=random_normal(mean=0.0, stddev=0.5)))\n",
        "model.add(Dense(1, activation='sigmoid'))"
      ]
    },
    {
      "cell_type": "markdown",
      "source": [
        "model compiling"
      ],
      "metadata": {
        "id": "XX8S9gmVwqB8"
      }
    },
    {
      "cell_type": "code",
      "source": [
        "optimizer = SGD(learning_rate=0.7)\n",
        "model.compile(loss=binary_crossentropy\n",
        "optimizer=optimizer,\n",
        "metrics=['accuracy'])\n",
        "history=model.fit(X_tain, y_train, epochs=100)\n"
      ],
      "metadata": {
        "id": "SgxqkI6twroU"
      },
      "execution_count": null,
      "outputs": []
    },
    {
      "cell_type": "markdown",
      "source": [
        "plotting"
      ],
      "metadata": {
        "id": "KIDPzv14xLVO"
      }
    },
    {
      "cell_type": "code",
      "source": [
        "loss=history.history.['loss']\n",
        "epochs=range(1, len(loss) + 1)\n",
        "plt.plot(epochs, loss, 'b', label='Training Loss')\n",
        "plt.title('Training Loss')\n",
        "plt.xlabel('Epochs')\n",
        "plt.ylabel('Loss')\n",
        "plt.legend()\n",
        "plt.show()"
      ],
      "metadata": {
        "id": "P0eNQLqJxM-H"
      },
      "execution_count": null,
      "outputs": []
    },
    {
      "cell_type": "markdown",
      "source": [
        "solution for exploding gradient problem"
      ],
      "metadata": {
        "id": "mcjxASlzykaL"
      }
    },
    {
      "cell_type": "code",
      "source": [
        "model = Sequential()\n",
        "model.add(Dense(10, activation='tanh', kernel_initializer='glorot_uniform'),\n",
        "          kernel_constraint=max_norm(2.0), input_dim=18)\n",
        "model.add(Dense(10, activation='tanh', kernel_initializer='glorot_uniform'),\n",
        "          kernel_constraint=max_norm(2.0))\n",
        "model.add(Dense(10, activatiion='tanh', kernel_initiializer='glorot_uniform', kernel_constraint=max_norm(2.0)))\n",
        "model.add(Dense(10, activation='tanh', kernel_initializer='glorot_uniform', kernel_constraint=max_norm(2.0)))\n",
        "model.add(Dense(10, activation='tanh', kernel_initializer='glorot_uniform', kernel_constraint=max_norm(2.0)))\n",
        "model.add(Dense(10, activation='tanh', kernel_initializer='glorot_uniform', kernel_constraint=max_norm(2.0)))\n",
        "model.add(Dense(10, activation='tanh', kernel_initializer='glorot_uniform', kernel_constraint=max_norm(2.0)))\n",
        "model.add(Dense(10, activation='tanh', kernel_initializer='glorot_uniform', kernel_constraint=max_norm(2.0)))\n",
        "model.add(De3nse(1, activation='sigmoid'))\n",
        "\n",
        "early_stopping = EarlyStopping(monitor='val_loss', patience=10, restore_best_weights=True)\n",
        "model.compile(loss='binary_crossentropy',\n",
        "              optimizer=Adam(learning_rate=0.001,\n",
        "                             clipnorm=1.0),\n",
        "              metrics=['accuracy'])\n",
        "history = model.fit(X_train_scaled, y_train,\n",
        "                    epochs=100,\n",
        "                    validation_data=(X_val_scaled, y_val),\n",
        "                    batch_size=32,\n",
        "                    callbacks=[early_stopping])\n"
      ],
      "metadata": {
        "colab": {
          "base_uri": "https://localhost:8080/",
          "height": 245
        },
        "id": "h9ufJ9rwyn0I",
        "outputId": "c72c9bad-17e7-4758-91bb-19b97fe4ed22"
      },
      "execution_count": null,
      "outputs": [
        {
          "output_type": "error",
          "ename": "NameError",
          "evalue": "name 'Sequential' is not defined",
          "traceback": [
            "\u001b[0;31m---------------------------------------------------------------------------\u001b[0m",
            "\u001b[0;31mNameError\u001b[0m                                 Traceback (most recent call last)",
            "\u001b[0;32m/tmp/ipython-input-313505320.py\u001b[0m in \u001b[0;36m<cell line: 0>\u001b[0;34m()\u001b[0m\n\u001b[0;32m----> 1\u001b[0;31m \u001b[0mmodel\u001b[0m \u001b[0;34m=\u001b[0m \u001b[0mSequential\u001b[0m\u001b[0;34m(\u001b[0m\u001b[0;34m)\u001b[0m\u001b[0;34m\u001b[0m\u001b[0;34m\u001b[0m\u001b[0m\n\u001b[0m\u001b[1;32m      2\u001b[0m model.add(Dense(10, activation='tanh', kernel_initializer='glorot_uniform'),\n\u001b[1;32m      3\u001b[0m           kernel_constraint=max_norm(2.0), input_dim=18)\n\u001b[1;32m      4\u001b[0m model.add(Dense(10, activation='tanh', kernel_initializer='glorot_uniform'),\n\u001b[1;32m      5\u001b[0m           kernel_constraint=max_norm(2.0))\n",
            "\u001b[0;31mNameError\u001b[0m: name 'Sequential' is not defined"
          ]
        }
      ]
    },
    {
      "cell_type": "markdown",
      "source": [
        "evaluation metrics"
      ],
      "metadata": {
        "id": "WzQfnRTq1d4h"
      }
    },
    {
      "cell_type": "code",
      "source": [
        "predictions = model.predict(X_val)\n",
        "rounded_predictions = np.round(predictions)\n",
        "report = classification_report(y_val, rounded_predictions)\n",
        "print(f'Classification Report:\\n{report}')"
      ],
      "metadata": {
        "colab": {
          "base_uri": "https://localhost:8080/",
          "height": 193
        },
        "id": "lbX2L06s1h1g",
        "outputId": "eed6b943-ff9f-486f-94a7-b8d2b444c85f"
      },
      "execution_count": null,
      "outputs": [
        {
          "output_type": "error",
          "ename": "NameError",
          "evalue": "name 'model' is not defined",
          "traceback": [
            "\u001b[0;31m---------------------------------------------------------------------------\u001b[0m",
            "\u001b[0;31mNameError\u001b[0m                                 Traceback (most recent call last)",
            "\u001b[0;32m/tmp/ipython-input-2135681174.py\u001b[0m in \u001b[0;36m<cell line: 0>\u001b[0;34m()\u001b[0m\n\u001b[0;32m----> 1\u001b[0;31m \u001b[0mpredictions\u001b[0m \u001b[0;34m=\u001b[0m \u001b[0mmodel\u001b[0m\u001b[0;34m.\u001b[0m\u001b[0mpredict\u001b[0m\u001b[0;34m(\u001b[0m\u001b[0mX_val\u001b[0m\u001b[0;34m)\u001b[0m\u001b[0;34m\u001b[0m\u001b[0;34m\u001b[0m\u001b[0m\n\u001b[0m\u001b[1;32m      2\u001b[0m \u001b[0mrounded_predictions\u001b[0m \u001b[0;34m=\u001b[0m \u001b[0mnp\u001b[0m\u001b[0;34m.\u001b[0m\u001b[0mround\u001b[0m\u001b[0;34m(\u001b[0m\u001b[0mpredictions\u001b[0m\u001b[0;34m)\u001b[0m\u001b[0;34m\u001b[0m\u001b[0;34m\u001b[0m\u001b[0m\n\u001b[1;32m      3\u001b[0m \u001b[0mreport\u001b[0m \u001b[0;34m=\u001b[0m \u001b[0mclassification_report\u001b[0m\u001b[0;34m(\u001b[0m\u001b[0my_val\u001b[0m\u001b[0;34m,\u001b[0m \u001b[0mrounded_predictions\u001b[0m\u001b[0;34m)\u001b[0m\u001b[0;34m\u001b[0m\u001b[0;34m\u001b[0m\u001b[0m\n\u001b[1;32m      4\u001b[0m \u001b[0mprint\u001b[0m\u001b[0;34m(\u001b[0m\u001b[0;34mf'Classification Report:\\n{report}'\u001b[0m\u001b[0;34m)\u001b[0m\u001b[0;34m\u001b[0m\u001b[0;34m\u001b[0m\u001b[0m\n",
            "\u001b[0;31mNameError\u001b[0m: name 'model' is not defined"
          ]
        }
      ]
    }
  ]
}